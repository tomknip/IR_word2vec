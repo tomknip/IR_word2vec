{
 "cells": [
  {
   "cell_type": "markdown",
   "metadata": {},
   "source": [
    "# Profile-Based Information Retrieval System using Word2Vec\n",
    "![alt text](https://liaison2020.eu/wp-content/uploads/2020/01/partner_logo_UPM_.jpg \"Logo UPM\")\n",
    "<strong>Assignment for the course of Information Retrieval, Extraction and Integration @ Universidad Politécnica de Madrid \\\n",
    "Developed by Tom van Knippenberg &copy;</strong> \n",
    "\n",
    "\n",
    "\n",
    "\n",
    "The idea of the information retrieval system is as follows.\n",
    "User 1 has sports as a preference. The profile vector consists of \"Tennis\", \"Football\", \"Rugby\". User 2 has cars as a preference. The profile vector may for example consist of \"BMW\", \"Engine\", \"Wheels\". There is a new document called: \"Tennis is healthy\". The score to user 1 is 0.9 and the score to user 2 is 0. The document is sent to user 1 because it is above the threshold of 0.5 (for example).\n",
    "\n",
    "The steps that are part of the information retrieval system are:\n",
    "1. Build profile vector\n",
    "2. New incoming document transformation into keywords\n",
    "3. Calculate score of new, prepared document that enters the system\n",
    "4. If score > threshold, recommend to user\n",
    "5. Let user provide feedback\n",
    "6. Adapt the profile according to the profile and the feedback provided\n",
    "\n",
    "\n",
    "In the next sections, each step will be explained.\n"
   ]
  },
  {
   "cell_type": "code",
   "execution_count": null,
   "metadata": {},
   "outputs": [],
   "source": [
    "!pip install numpy\n",
    "!pip install gensim\n",
    "!pip install nltk\n"
   ]
  },
  {
   "cell_type": "code",
   "execution_count": 1,
   "metadata": {},
   "outputs": [
    {
     "name": "stderr",
     "output_type": "stream",
     "text": [
      "[nltk_data] Downloading package stopwords to\n",
      "[nltk_data]     C:\\Users\\Tomva\\AppData\\Roaming\\nltk_data...\n",
      "[nltk_data]   Package stopwords is already up-to-date!\n"
     ]
    }
   ],
   "source": [
    "import numpy as np\n",
    "\n",
    "import gensim\n",
    "from gensim.test.utils import common_texts\n",
    "from gensim.models import Word2Vec\n",
    "import gensim.downloader as api\n",
    "\n",
    "from nltk.tokenize import wordpunct_tokenize\n",
    "from nltk.corpus import stopwords\n",
    "import nltk\n",
    "nltk.download('stopwords')\n",
    "\n",
    "import random\n",
    "from collections import Counter"
   ]
  },
  {
   "cell_type": "markdown",
   "metadata": {},
   "source": [
    "## Profile Vectors\n",
    "The profile vectors for each user are built by extending the preference with the most similar words to that preference according to our vector space model.\n",
    "\n",
    "In this example we use the pretrained model of glove-wiki-gigaword-100.  "
   ]
  },
  {
   "cell_type": "code",
   "execution_count": 2,
   "metadata": {},
   "outputs": [],
   "source": [
    "\n",
    "def profile_initialization_model():\n",
    "    return api.load('glove-wiki-gigaword-100')\n",
    "\n",
    "\n",
    "def profile_vectors(user_list, model, n):\n",
    "    # Function to build profile vectors\n",
    "    profiles = dict()\n",
    "    for num, user in enumerate(user_list):\n",
    "        user_proc = [word.lower() for word in user]\n",
    "        words = model.most_similar(positive=user_proc, topn=n)\n",
    "        words = [t[0] for t in words]\n",
    "        words.extend([word.lower() for word in user])\n",
    "        profiles[num+1] = words\n",
    "    return profiles\n",
    "\n"
   ]
  },
  {
   "cell_type": "code",
   "execution_count": 3,
   "metadata": {},
   "outputs": [],
   "source": [
    "# Load the model for Word2Vec evaluation\n",
    "model = profile_initialization_model()"
   ]
  },
  {
   "cell_type": "code",
   "execution_count": 4,
   "metadata": {},
   "outputs": [
    {
     "data": {
      "text/plain": [
       "{1: ['sports',\n",
       "  'cycling',\n",
       "  'soccer',\n",
       "  'racing',\n",
       "  'sporting',\n",
       "  'competition',\n",
       "  'football',\n",
       "  'compete',\n",
       "  'competitive',\n",
       "  'professional',\n",
       "  'sport'],\n",
       " 2: ['film',\n",
       "  'movies',\n",
       "  'musical',\n",
       "  'movie',\n",
       "  'productions',\n",
       "  'songs',\n",
       "  'soundtrack',\n",
       "  'cinema',\n",
       "  'comedy',\n",
       "  'artists',\n",
       "  'music',\n",
       "  'films'],\n",
       " 3: ['sports',\n",
       "  'culture',\n",
       "  'history',\n",
       "  'political',\n",
       "  'social',\n",
       "  'rather',\n",
       "  'well',\n",
       "  'popular',\n",
       "  'life',\n",
       "  'focus',\n",
       "  'politics',\n",
       "  'sport'],\n",
       " 4: ['vehicles',\n",
       "  'trucks',\n",
       "  'car',\n",
       "  'automobiles',\n",
       "  'motorcycles',\n",
       "  'vehicle',\n",
       "  'buses',\n",
       "  'truck',\n",
       "  'vans',\n",
       "  'bicycles',\n",
       "  'cars'],\n",
       " 5: ['car',\n",
       "  'vehicles',\n",
       "  'vehicle',\n",
       "  'trucks',\n",
       "  'sports',\n",
       "  'racing',\n",
       "  'driving',\n",
       "  'motorcycles',\n",
       "  'models',\n",
       "  'suv',\n",
       "  'cars',\n",
       "  'sport']}"
      ]
     },
     "execution_count": 4,
     "metadata": {},
     "output_type": "execute_result"
    }
   ],
   "source": [
    "# Initialize User Preferences\n",
    "user1 = [\"Sport\"]\n",
    "user2 = [\"Music\", \"Films\"]\n",
    "user3 = [\"Politics\", \"Sport\"]\n",
    "user4 = [\"Cars\"]\n",
    "user5 = [\"Cars\", \"Sport\"]\n",
    "\n",
    "user_list = [user1, user2, user3, user4, user5]\n",
    "profiles = profile_vectors(user_list, model, n=10)\n",
    "db_profile = {key: Counter(value) for key, value in profiles.items()}\n",
    "\n",
    "# Show results of profile initialization\n",
    "profiles"
   ]
  },
  {
   "cell_type": "markdown",
   "metadata": {},
   "source": [
    "## Document Preparation\n",
    "For the processing of documents we use the function provided in the lecture. It does the necessary pre-processing such as removing punctuation and stopwords, converting to lowercase, and removing words that have less than 2 characters. "
   ]
  },
  {
   "cell_type": "code",
   "execution_count": 5,
   "metadata": {},
   "outputs": [],
   "source": [
    "def normalize_doc(doc): \n",
    "    # Function to process new incoming documents\n",
    "    stopset = set(stopwords.words('english'))\n",
    "    tokens = wordpunct_tokenize(doc)\n",
    "    clean = [token.lower() for token in tokens if token.lower() not in stopset and len(token) > 2]\n",
    "    return clean\n",
    "\n"
   ]
  },
  {
   "cell_type": "markdown",
   "metadata": {},
   "source": [
    "The following documents are retrieved from the New York Times website on 14th of March 2021. They will serve as potential\n",
    "documents for the profiles. "
   ]
  },
  {
   "cell_type": "code",
   "execution_count": 6,
   "metadata": {},
   "outputs": [],
   "source": [
    "# Sample documents from NY Times\n",
    "corpus = [\n",
    "    \"N.C.A.A. Tournament: Things to Know Going Into Selection Sunday. The field of 68 teams for the men’s N.C.A.A. tournament will include 37 at-large bids and 31 automatic qualifiers.\",\n",
    "    \"Women’s Basketball Makes Room for New Stars, and New Contenders. The usual elites are still great, but the rest of the college field has a real shot to win the championship this year. Star power isn’t concentrated at the top anymore.\",\n",
    "    \"The Pandemic Drove People to Tennis and Golf. Will They Keep Playing?\",\n",
    "    \"How Democrats Hope to Press Their Advantage on the Stimulus. Our political reporter lays out Democrats’ messaging goals for the relief bill as they eye the midterms.\",\n",
    "    \"After Capitol Riot, Lawmakers Chafe at Security Measures. There is bipartisan interest in removing fencing around the Capitol and dismissing the National Guard troops deployed there, but law enforcement officials fear new threats.\",\n",
    "    \"‘We’ll Be Back,’ Broadway Says, on Shutdown Anniversary. A pop-up performance in Times Square on Friday, featuring stars like André De Shields, was full of excitement as reopenings may be on the horizon.\",\n",
    "    \"Meet the Best New Artist Grammy Nominees\",\n",
    "    \"Electric Cars Are Coming. How Long Until They Rule the Road? A new car sold today can last a decade or two before retiring. This “fleet turnover” poses a major challenge for climate policy.\",\n",
    "    \"Volvo Plans to Sell Only Electric Cars by 2030. The Swedish company would phase out internal combustion engine vehicles faster than other automakers.\"\n",
    "]"
   ]
  },
  {
   "cell_type": "markdown",
   "metadata": {},
   "source": [
    "## Scoring Documents\n",
    "The documents will be scored with the cosine similarity. This function is described below. "
   ]
  },
  {
   "cell_type": "code",
   "execution_count": 7,
   "metadata": {},
   "outputs": [],
   "source": [
    "# Score document for each user, average cosine similarity \n",
    "def evaluate_cosine_sim(doc, user, model, method='avg'):\n",
    "    user_low = [word.lower() for word in user]\n",
    "    scores = []\n",
    "    max_score = 0\n",
    "    max_word = \"\"\n",
    "    \n",
    "    for word in user_low:\n",
    "        for w2 in doc:\n",
    "            score = model.similarity(word, w2)\n",
    "            scores.append(score)\n",
    "            if score > max_score:\n",
    "                max_word = word\n",
    "            max_score = max(score, max_score)\n",
    "    if method == 'avg':\n",
    "        score = sum(scores) / len(scores)\n",
    "    else:\n",
    "        score = max(scores)\n",
    "    return score, max_word\n"
   ]
  },
  {
   "cell_type": "markdown",
   "metadata": {},
   "source": [
    "## Information Retrieval System\n",
    "This section describes the information retrieval system. The system processes the incoming documents. Then it starts to evaluate these documents for the specific user put in. Each document gets first classified to one of the categories specified. Then the word that triggers most that classification is selected and used to update the profile vector, see the next section. \n",
    "\n",
    "The example shown demonstrates that user 1 (with preferences for sports) only shows interest in cars twice. The effect after one time clicking on such a document does not change the profile, but after two times only showing interest in the car documents, the profile vector changes."
   ]
  },
  {
   "cell_type": "code",
   "execution_count": 8,
   "metadata": {},
   "outputs": [],
   "source": [
    "def classify_doc(model, doc):\n",
    "    categories = [\"Sport\", \"Music\", \"Film\", \"Politics\", \"Cars\", \"Tech\", \"Science\", \"Food\", \"Business\", \"Books\", \"Health\"]\n",
    "    cat_vectors = profile_vectors([[i] for i in categories], model, n = 4)\n",
    "    classification = []\n",
    "    max_score = 0\n",
    "    topic_word = \"\"\n",
    "    for topic in cat_vectors.values():\n",
    "        score, max_word = evaluate_cosine_sim(topic, doc, model, method='max')\n",
    "        if score > max_score:\n",
    "            max_score = score\n",
    "            classification = topic\n",
    "            topic_word = max_word\n",
    "    return classification, topic_word\n",
    "\n",
    "\n",
    "def profile_ir(corpus, model, profile, threshold=0.65, eps=0.1):\n",
    "    pref = []\n",
    "    docs = [normalize_doc(doc) for doc in corpus]\n",
    "    for n, doc in enumerate(docs):\n",
    "        show = 0 \n",
    "        # Classify topic of document \n",
    "        topic, topic_word = classify_doc(model, doc)\n",
    "        \n",
    "        # epsilon greedy algorithm to promote exploration\n",
    "        random_n = random.random()\n",
    "        if random_n > eps:\n",
    "            score, _ = evaluate_cosine_sim(doc, profile, model, method = 'max')\n",
    "            if score > threshold:\n",
    "                print(\"Show: '\", corpus[n], \"' to user based on scoring. \\n\")\n",
    "                show = 1\n",
    "        elif random_n < eps:\n",
    "            print(\"Show: '\", corpus[n], \"' to user based on exploration. \\n\")\n",
    "            show = 1\n",
    "        \n",
    "        # When the document is shown, ask if relevant\n",
    "        if show == 1:\n",
    "            select = input(\"Do you like to show this article? (1 = yes, 0 = no) \")\n",
    "            while select not in ['0', '1']:\n",
    "                print(\"Select 0 or 1\")\n",
    "                select = input(\"Do you like to show this article? (1 = yes, 0 = no) \")\n",
    "            print(\"\\n\")\n",
    "            select = int(select)\n",
    "            preferences = [word for word, _ in model.most_similar(topic_word)]\n",
    "            if select == 1:\n",
    "                pref.extend(preferences)\n",
    "    return pref\n",
    "\n"
   ]
  },
  {
   "cell_type": "code",
   "execution_count": 9,
   "metadata": {},
   "outputs": [
    {
     "name": "stdout",
     "output_type": "stream",
     "text": [
      "Show: ' N.C.A.A. Tournament: Things to Know Going Into Selection Sunday. The field of 68 teams for the men’s N.C.A.A. tournament will include 37 at-large bids and 31 automatic qualifiers. ' to user based on scoring. \n",
      "\n",
      "Do you like to show this article? (1 = yes, 0 = no) 0\n",
      "\n",
      "\n",
      "Show: ' Women’s Basketball Makes Room for New Stars, and New Contenders. The usual elites are still great, but the rest of the college field has a real shot to win the championship this year. Star power isn’t concentrated at the top anymore. ' to user based on scoring. \n",
      "\n",
      "Do you like to show this article? (1 = yes, 0 = no) 0\n",
      "\n",
      "\n",
      "Show: ' The Pandemic Drove People to Tennis and Golf. Will They Keep Playing? ' to user based on scoring. \n",
      "\n",
      "Do you like to show this article? (1 = yes, 0 = no) 0\n",
      "\n",
      "\n",
      "Show: ' Electric Cars Are Coming. How Long Until They Rule the Road? A new car sold today can last a decade or two before retiring. This “fleet turnover” poses a major challenge for climate policy. ' to user based on scoring. \n",
      "\n",
      "Do you like to show this article? (1 = yes, 0 = no) 1\n",
      "\n",
      "\n"
     ]
    }
   ],
   "source": [
    "# Perform Information Retrieval for user 1\n",
    "user_no = 1\n",
    "pref_u1 = profile_ir(corpus, model, profiles[user_no])"
   ]
  },
  {
   "cell_type": "markdown",
   "metadata": {},
   "source": [
    "## New Profile Vector\n",
    "The new profile vector will consist of the words that described the documents the best and mixed with the initial preferences of the user. We will see the effect of the previous choices on the profile and the relevant documents."
   ]
  },
  {
   "cell_type": "code",
   "execution_count": 10,
   "metadata": {},
   "outputs": [
    {
     "name": "stdout",
     "output_type": "stream",
     "text": [
      "Old profile contains following words:  ['sports', 'cycling', 'soccer', 'racing', 'sporting', 'competition', 'football', 'compete', 'competitive', 'professional', 'sport']\n",
      "New profile contains following words:  ['competitive', 'competition', 'racing', 'sporting', 'sports', 'cycling', 'compete', 'professional', 'soccer', 'football']\n"
     ]
    }
   ],
   "source": [
    "\n",
    "def adapt_profile(profiles, pref, db_profile, user_no): \n",
    "    # Function that adapts the profile vector of a given user\n",
    "    new_db = db_profile.copy()\n",
    "    new_db[user_no].update(pref)\n",
    "    new_profile = [word for word, _ in new_db[user_no].most_common(10)]\n",
    "    new_profile = list(set(new_profile))\n",
    "    return new_profile, new_db\n",
    "\n",
    "\n",
    "print(\"Old profile contains following words: \", profiles[user_no])\n",
    "\n",
    "# Adapt profile vector\n",
    "new_profile, new_db = adapt_profile(profiles, pref_u1, db_profile, user_no)\n",
    "print(\"New profile contains following words: \", new_profile)\n",
    "\n",
    "# Adapt profiles with new profile and is ready for new documents\n",
    "profiles[user_no] = new_profile"
   ]
  },
  {
   "cell_type": "markdown",
   "metadata": {},
   "source": [
    "As can be seen, the initial preferences are still preserved. Now, the user again only shows interest in the documents about cars. See below. "
   ]
  },
  {
   "cell_type": "code",
   "execution_count": 12,
   "metadata": {},
   "outputs": [
    {
     "name": "stdout",
     "output_type": "stream",
     "text": [
      "Show: ' N.C.A.A. Tournament: Things to Know Going Into Selection Sunday. The field of 68 teams for the men’s N.C.A.A. tournament will include 37 at-large bids and 31 automatic qualifiers. ' to user based on scoring. \n",
      "\n",
      "Do you like to show this article? (1 = yes, 0 = no) 0\n",
      "\n",
      "\n",
      "Show: ' Women’s Basketball Makes Room for New Stars, and New Contenders. The usual elites are still great, but the rest of the college field has a real shot to win the championship this year. Star power isn’t concentrated at the top anymore. ' to user based on scoring. \n",
      "\n",
      "Do you like to show this article? (1 = yes, 0 = no) 0\n",
      "\n",
      "\n",
      "Show: ' The Pandemic Drove People to Tennis and Golf. Will They Keep Playing? ' to user based on exploration. \n",
      "\n",
      "Do you like to show this article? (1 = yes, 0 = no) 0\n",
      "\n",
      "\n",
      "Show: ' Electric Cars Are Coming. How Long Until They Rule the Road? A new car sold today can last a decade or two before retiring. This “fleet turnover” poses a major challenge for climate policy. ' to user based on scoring. \n",
      "\n",
      "Do you like to show this article? (1 = yes, 0 = no) 1\n",
      "\n",
      "\n",
      "Show: ' Volvo Plans to Sell Only Electric Cars by 2030. The Swedish company would phase out internal combustion engine vehicles faster than other automakers. ' to user based on exploration. \n",
      "\n",
      "Do you like to show this article? (1 = yes, 0 = no) 1\n",
      "\n",
      "\n"
     ]
    }
   ],
   "source": [
    "pref_u1 = profile_ir(corpus, model, profiles[user_no])"
   ]
  },
  {
   "cell_type": "code",
   "execution_count": 13,
   "metadata": {},
   "outputs": [
    {
     "name": "stdout",
     "output_type": "stream",
     "text": [
      "Old profile contains following words:  ['competitive', 'competition', 'racing', 'sporting', 'sports', 'cycling', 'compete', 'professional', 'soccer', 'football']\n",
      "New profile contains following words:  ['bus', 'parked', 'truck', 'vehicles', 'driver', 'cars', 'driving', 'motorcycle', 'vehicle', 'taxi']\n"
     ]
    }
   ],
   "source": [
    "print(\"Old profile contains following words: \", profiles[user_no])\n",
    "\n",
    "# Adapt profile vector\n",
    "new_profile, new_db = adapt_profile(profiles, pref_u1, db_profile, user_no)\n",
    "print(\"New profile contains following words: \", new_profile)\n",
    "\n",
    "# Adapt profiles with new profile and is ready for new documents\n",
    "profiles[user_no] = new_profile"
   ]
  },
  {
   "cell_type": "markdown",
   "metadata": {},
   "source": [
    "The profile now contains more keywords related to cars as the user continues to choose for car documents and ignores the sport documents. This example showed how the profile might change due to the behaviour of the user. "
   ]
  }
 ],
 "metadata": {
  "kernelspec": {
   "display_name": "Python 3",
   "language": "python",
   "name": "python3"
  },
  "language_info": {
   "codemirror_mode": {
    "name": "ipython",
    "version": 3
   },
   "file_extension": ".py",
   "mimetype": "text/x-python",
   "name": "python",
   "nbconvert_exporter": "python",
   "pygments_lexer": "ipython3",
   "version": "3.8.5"
  }
 },
 "nbformat": 4,
 "nbformat_minor": 4
}
